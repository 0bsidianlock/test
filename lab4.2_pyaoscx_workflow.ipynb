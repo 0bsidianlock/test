{
 "cells": [
  {
   "cell_type": "markdown",
   "source": [
    "# Aruba Network Automation Product Training -Lab4- Task2"
   ],
   "metadata": {}
  },
  {
   "cell_type": "markdown",
   "source": [
    "There are two Approaches to use pyaoscx: open granulated approach and Imperative Factory Approach to utilize Pyaoscx library.\n",
    "\n",
    "\n",
    "On Access switch:\n",
    "-\tUtilize open granulated approach to create vlan200, add a description and put Interface into the VLAN. Create Lag1, add interface1/1/8 into the lag1. \n",
    "-\tUtilize Imperative Factory Approach to create VLAN201 and Lag2.\n",
    "-\tChanlenge: understand how to handle configurarion. Save the running-config to checkpoint and tftp server.\n"
   ],
   "metadata": {}
  },
  {
   "cell_type": "code",
   "execution_count": 11,
   "source": [
    "!pip install pyaoscx "
   ],
   "outputs": [
    {
     "output_type": "stream",
     "name": "stdout",
     "text": [
      "Requirement already satisfied: pyaoscx in c:\\users\\kevin\\appdata\\roaming\\python\\python38\\site-packages (2.0.0)\n",
      "Requirement already satisfied: requests in c:\\users\\kevin\\appdata\\roaming\\python\\python38\\site-packages (from pyaoscx) (2.26.0)\n",
      "Requirement already satisfied: PyYAML in c:\\users\\kevin\\appdata\\roaming\\python\\python38\\site-packages (from pyaoscx) (5.4.1)\n",
      "Requirement already satisfied: certifi>=2017.4.17 in c:\\users\\kevin\\appdata\\roaming\\python\\python38\\site-packages (from requests->pyaoscx) (2021.5.30)\n",
      "Requirement already satisfied: urllib3<1.27,>=1.21.1 in c:\\users\\kevin\\appdata\\roaming\\python\\python38\\site-packages (from requests->pyaoscx) (1.26.6)\n",
      "Requirement already satisfied: charset-normalizer~=2.0.0; python_version >= \"3\" in c:\\users\\kevin\\appdata\\roaming\\python\\python38\\site-packages (from requests->pyaoscx) (2.0.2)\n",
      "Requirement already satisfied: idna<4,>=2.5; python_version >= \"3\" in c:\\users\\kevin\\appdata\\roaming\\python\\python38\\site-packages (from requests->pyaoscx) (3.2)\n"
     ]
    }
   ],
   "metadata": {}
  },
  {
   "cell_type": "code",
   "execution_count": 8,
   "source": [
    "#get to know the pyaoscx and where it is installed.\r\n",
    "!pip show pyaoscx"
   ],
   "outputs": [
    {
     "output_type": "stream",
     "name": "stdout",
     "text": [
      "Name: pyaoscx\n",
      "Version: 2.0.0\n",
      "Summary: AOS-CX Python Modules\n",
      "Home-page: https://github.com/aruba/pyaoscx\n",
      "Author: Aruba Automation\n",
      "Author-email: aruba-automation@hpe.com\n",
      "License: Apache 2.0\n",
      "Location: c:\\users\\kevin\\appdata\\roaming\\python\\python38\\site-packages\n",
      "Requires: requests, PyYAML\n",
      "Required-by: \n"
     ]
    }
   ],
   "metadata": {}
  },
  {
   "cell_type": "code",
   "execution_count": 7,
   "source": [
    "from pyaoscx.session import Session\r\n",
    "from pyaoscx.pyaoscx_factory import PyaoscxFactory\r\n",
    "from pyaoscx.vlan import Vlan\r\n",
    "from pyaoscx.interface import Interface\r\n",
    "from pyaoscx.static_route import StaticRoute\r\n",
    "from pyaoscx.vrf import Vrf\r\n",
    "import urllib3\r\n",
    "urllib3.disable_warnings()"
   ],
   "outputs": [],
   "metadata": {}
  },
  {
   "cell_type": "code",
   "execution_count": 10,
   "source": [
    "# There are two approaches to workflows, both using the session.\r\n",
    "version = '10.04'\r\n",
    "switch_ip = '<yOUR switch IP'\r\n",
    "s = Session(switch_ip, version)\r\n",
    "s.open('<Your switch Username', 'Your switch password')\r\n"
   ],
   "outputs": [],
   "metadata": {}
  },
  {
   "cell_type": "markdown",
   "source": [
    "#  APPROACH 1: OPEN GRANULATED APPROACH VLAN"
   ],
   "metadata": {}
  },
  {
   "cell_type": "code",
   "execution_count": null,
   "source": [
    "\r\n",
    "# Create Vlan object -- Not yet materialized\r\n",
    "#Vlan is Python Class has been defined in PYTHON module pycentral.vlan\r\n",
    "#vlan200 is a object or instance of this Class\r\n",
    "\r\n",
    "vlan200 = Vlan(s, 200, name=\"VLAN 200\", voice=True)\r\n"
   ],
   "outputs": [],
   "metadata": {}
  },
  {
   "cell_type": "code",
   "execution_count": null,
   "source": [
    "# Since object is not materialized, performs a POST request -- This method internally makes a GET request right after the POST\r\n",
    "# Obtaining all attributes VLAN related\r\n",
    "#If you an \"Internal server error\", that means the vlan is already exsisted.\r\n",
    "vlan200.apply()\r\n"
   ],
   "outputs": [],
   "metadata": {}
  },
  {
   "cell_type": "code",
   "execution_count": null,
   "source": [
    "#display all Vlans"
   ],
   "outputs": [],
   "metadata": {}
  },
  {
   "cell_type": "code",
   "execution_count": null,
   "source": [
    "Vlan.get_all(s)"
   ],
   "outputs": [],
   "metadata": {}
  },
  {
   "cell_type": "code",
   "execution_count": null,
   "source": [
    "#add description for vlan200\r\n",
    "vlan200.description = \"New description, changed via pyaoscx SDK1\"\r\n",
    "vlan200.apply()\r\n",
    "\r\n",
    "# Now vlan200 contains the description attribute\r\n",
    "print(\"VLAN 200 description {}\".format(vlan200.description))\r\n",
    "\r\n"
   ],
   "outputs": [],
   "metadata": {}
  },
  {
   "cell_type": "code",
   "execution_count": null,
   "source": [
    "# Now let's create another object, that we know already exists inside of the Switch\r\n",
    "vlan1 = Vlan(s, 1)\r\n",
    "# Perform a GET request to obtain all data and materialize object\r\n",
    "vlan1.get()\r\n"
   ],
   "outputs": [],
   "metadata": {}
  },
  {
   "cell_type": "code",
   "execution_count": null,
   "source": [
    "# Now, we are able to modify the objects internal attributes\n",
    "vlan1.voice = True\n",
    "# Apply changes\n",
    "changed = vlan1.apply()\n",
    "# If changed is True, a PUT request was done and object was modified"
   ],
   "outputs": [],
   "metadata": {}
  },
  {
   "cell_type": "code",
   "execution_count": null,
   "source": [
    "# More complex example using the OPEN GRANULATED APPROACH\n",
    "# Create an Interface object\n",
    "\n",
    "lag = Interface(s, 'lag1')\n",
    "lag.apply()\n",
    "\n"
   ],
   "outputs": [],
   "metadata": {}
  },
  {
   "cell_type": "code",
   "execution_count": null,
   "source": [
    "# Create a Vlan object\n",
    "\n",
    "vlan_1 = Vlan(s, 1)\n",
    "    # In this case, now that the VLAN exists within the Switch,\n",
    "    # a GET request is called to obtain the VLAN's information.\n",
    "    # The information is then added to the object as attributes.\n",
    "vlan_1.get()\n",
    "\n",
    " "
   ],
   "outputs": [],
   "metadata": {}
  },
  {
   "cell_type": "code",
   "execution_count": null,
   "source": [
    "   # Interfaces/Ports added to LAG\n",
    "port_1_1_8 = Interface(s, '1/1/8')\n",
    "port_1_1_8.get()\n",
    "    # Make changes to configure LAG as L2\n",
    "lag.admin = 'down'\n",
    "lag.routing = False\n",
    "lag.vlan_trunks = [vlan_1]\n",
    "lag.lacp = \"passive\"\n",
    "lag.other_config[\"mclag_enabled\"] = False\n",
    "lag.other_config[\"lacp-fallback\"] = False\n",
    "lag.vlan_mode = \"native-untagged\"\n",
    "lag.vlan_tag = vlan_1\n",
    "    # Add port as LAG member\n",
    "lag.interfaces.append(port_1_1_8)\n",
    "\n",
    "    # Apply changes\n",
    "lag.apply()\n",
    "\n",
    "    # ===========================================================\n",
    "    # ===========================================================\n",
    "    # ==========================================================="
   ],
   "outputs": [],
   "metadata": {}
  },
  {
   "cell_type": "markdown",
   "source": [
    "#  APPROACH 2: IMPERATIVE FACTORY APPROACH"
   ],
   "metadata": {}
  },
  {
   "cell_type": "markdown",
   "source": [
    "pyaoscx.pyaoscx_factory provide a Factory class to instantiate all pyaoscx Modules through specific methods.\n",
    "https://github.com/aruba/pyaoscx/blob/master/pyaoscx/pyaoscx_factory.py\n"
   ],
   "metadata": {}
  },
  {
   "cell_type": "code",
   "execution_count": null,
   "source": [
    "# Create VLAN 201\n",
    "# Create Factory object, passing the Session Object\n",
    "factory = PyaoscxFactory(s)\n"
   ],
   "outputs": [],
   "metadata": {}
  },
  {
   "cell_type": "code",
   "execution_count": null,
   "source": [
    "# Create Vlan object\n",
    "# If vlan is non-existent, Factory instantly creates it inside the switch device\n",
    "vlan201 = factory.vlan(201, \"NAME201\")\n",
    "\n"
   ],
   "outputs": [],
   "metadata": {}
  },
  {
   "cell_type": "code",
   "execution_count": null,
   "source": [
    "# Same complex example using the IMPERATIVE FACTORY APPROACH\n",
    "# PLUS USING IMPERATIVE METHODS\n",
    "\n",
    "# Create the Interface object\n",
    "lag2 = factory.interface('lag2')\n",
    "modified = lag2.configure_l2(\n",
    "        description=\"Created using imperative method\",\n",
    "        admin='up',\n",
    "        vlan_mode=\"native-untagged\",\n",
    "        vlan_tag=1,\n",
    "        trunk_allowed_all=True,\n",
    "        native_vlan_tag=True)\n",
    "\n",
    "# If modified is True, a PUT request was done and object was modified\n",
    "\n"
   ],
   "outputs": [],
   "metadata": {}
  },
  {
   "cell_type": "markdown",
   "source": [
    "#check if the VLAN is created"
   ],
   "metadata": {}
  },
  {
   "cell_type": "code",
   "execution_count": 48,
   "source": [
    "Vlan.get_all(s)"
   ],
   "outputs": [
    {
     "output_type": "execute_result",
     "data": {
      "text/plain": [
       "{1: <pyaoscx.vlan.Vlan at 0x1d76af00880>,\n",
       " 44: <pyaoscx.vlan.Vlan at 0x1d76af6b580>}"
      ]
     },
     "metadata": {},
     "execution_count": 48
    }
   ],
   "metadata": {}
  },
  {
   "cell_type": "code",
   "execution_count": null,
   "source": [
    "# At the end, the session MUST be closed\n",
    "s.close()"
   ],
   "outputs": [],
   "metadata": {}
  },
  {
   "cell_type": "markdown",
   "source": [
    "# Challenge:\n",
    "•\tGet the Access switch running-config configuration\n",
    "•\tSave it to a checkpoint named “checkpoint1_by_pyaoscx”\n",
    "•\tBackup running-config to tftp server 10.254.1.21\n"
   ],
   "metadata": {}
  },
  {
   "cell_type": "markdown",
   "source": [
    "#=======================================================================================\n",
    "\n",
    "# Solution:\n",
    "\n",
    "#You have to change the below cell to \"code\" type and move them to the above the \"s.close\" cell to run.\n",
    "#The Challege solution:"
   ],
   "metadata": {}
  },
  {
   "cell_type": "markdown",
   "source": [
    "config1=Configuration(s)"
   ],
   "metadata": {}
  },
  {
   "cell_type": "markdown",
   "source": [
    "Configuration.get_full_config(config1,\"startup-config\")"
   ],
   "metadata": {}
  },
  {
   "cell_type": "markdown",
   "source": [
    "Configuration.create_checkpoint(config1,\"running-config\",\"checkpoint1_by_pyaoscx11\")"
   ],
   "metadata": {}
  },
  {
   "cell_type": "markdown",
   "source": [
    "Configuration.backup_configuration(config1, \"running-config\", output_file=\"test_config\",\n",
    "                             vrf=\"<VRF name\", config_type='json',\n",
    "                             remote_file_tftp_path=\"tftp://<TFTP server IP>/test_config\")"
   ],
   "metadata": {}
  },
  {
   "cell_type": "markdown",
   "source": [
    "# You completed the LAB4 Task2 "
   ],
   "metadata": {}
  }
 ],
 "metadata": {
  "kernelspec": {
   "display_name": "Python 3",
   "language": "python",
   "name": "python3"
  },
  "language_info": {
   "codemirror_mode": {
    "name": "ipython",
    "version": 3
   },
   "file_extension": ".py",
   "mimetype": "text/x-python",
   "name": "python",
   "nbconvert_exporter": "python",
   "pygments_lexer": "ipython3",
   "version": "3.8.5"
  }
 },
 "nbformat": 4,
 "nbformat_minor": 4
}