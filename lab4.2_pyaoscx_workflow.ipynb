{
 "cells": [
  {
   "cell_type": "markdown",
   "source": [
    "# Configuring Aruba Network Automation Solutions - Lab4.2 Pyaoscx Workflow\r\n",
    "## Note:1.Before starting this lab, please clear all the output (Select Kernel, then click \"Restart Clear output\") 2.Ensure you did not ignore running any code cell.\r\n",
    "\r\n",
    "### There are two Approaches to use pyaoscx: open granulated approach and Imperative Factory Approach to utilize Pyaoscx library.\r\n",
    "\r\n",
    "## Requirements:\r\n",
    "#### On Access switch:\r\n",
    "-\tUtilize open granulated approach to create vlan200, add a description and put Interface into the VLAN. Create Lag1, add interface1/1/8 into the lag1. \r\n",
    "-\tUtilize Imperative Factory Approach to create VLAN201 and Lag2.\r\n",
    "-\tChanlenge: understand how to handle configurarion. Save the running-config to checkpoint and TFTP server.\r\n"
   ],
   "metadata": {}
  },
  {
   "cell_type": "code",
   "execution_count": null,
   "source": [
    "#Installing library needs some time. Be patient!\r\n",
    "!pip install pyaoscx "
   ],
   "outputs": [],
   "metadata": {}
  },
  {
   "cell_type": "code",
   "execution_count": null,
   "source": [
    "#get to know the pyaoscx and where it is installed.\r\n",
    "!pip show pyaoscx"
   ],
   "outputs": [],
   "metadata": {}
  },
  {
   "cell_type": "code",
   "execution_count": null,
   "source": [
    "from pyaoscx.session import Session\r\n",
    "from pyaoscx.pyaoscx_factory import PyaoscxFactory\r\n",
    "from pyaoscx.vlan import Vlan\r\n",
    "from pyaoscx.interface import Interface\r\n",
    "from pyaoscx.static_route import StaticRoute\r\n",
    "from pyaoscx.vrf import Vrf\r\n",
    "import urllib3\r\n",
    "urllib3.disable_warnings()"
   ],
   "outputs": [],
   "metadata": {}
  },
  {
   "cell_type": "code",
   "execution_count": null,
   "source": [
    "# There are two approaches to workflows, both using the session.\r\n",
    "# Replace <yOUR Access switch Management IP> with your access switch IP(10.251.X.103)\r\n",
    "\r\n",
    "version = '10.04'\r\n",
    "switch_ip = '<Your Access switch Management IP>'\r\n",
    "s = Session(switch_ip, version)\r\n",
    "s.open('<Your Switch Username>', '<Your Switch Password>')\r\n"
   ],
   "outputs": [],
   "metadata": {}
  },
  {
   "cell_type": "markdown",
   "source": [
    "#  APPROACH 1: OPEN GRANULATED APPROACH\n",
    "#### "
   ],
   "metadata": {}
  },
  {
   "cell_type": "code",
   "execution_count": null,
   "source": [
    "\r\n",
    "#Create Vlan object -- Not yet materialized\r\n",
    "#Vlan is a Python Class that has been defined in PYTHON module pycentral.vlan\r\n",
    "#vlan200 is a object or instance of this Class\r\n",
    "\r\n",
    "vlan200 = Vlan(s, 200, name=\"VLAN 200\", voice=True)\r\n"
   ],
   "outputs": [],
   "metadata": {}
  },
  {
   "cell_type": "code",
   "execution_count": null,
   "source": [
    "# Since object is not materialized, performs a POST request -- This method internally makes a GET request right after the POST\r\n",
    "# Obtaining all attributes VLAN related\r\n",
    "#If you an \"Internal server error\", that means the vlan is already exsisted.\r\n",
    "\r\n",
    "vlan200.apply()\r\n"
   ],
   "outputs": [],
   "metadata": {}
  },
  {
   "cell_type": "code",
   "execution_count": null,
   "source": [
    "# Display all Vlans\r\n",
    "\r\n",
    "Vlan.get_all(s)\r\n"
   ],
   "outputs": [],
   "metadata": {}
  },
  {
   "cell_type": "code",
   "execution_count": null,
   "source": [
    "#add description for vlan200\r\n",
    "\r\n",
    "vlan200.description = \"New description, changed via pyaoscx SDK1\"\r\n",
    "vlan200.apply()\r\n",
    "\r\n",
    "# Now vlan200 contains the description attribute\r\n",
    "\r\n",
    "print(\"VLAN 200 description {}\".format(vlan200.description))\r\n"
   ],
   "outputs": [],
   "metadata": {}
  },
  {
   "cell_type": "code",
   "execution_count": null,
   "source": [
    "# Now create another object, that we know already exists inside of the Switch\r\n",
    "vlan1 = Vlan(s, 1)\r\n",
    "\r\n",
    "# Perform a GET request to obtain all data and materialize object\r\n",
    "vlan1.get()\r\n"
   ],
   "outputs": [],
   "metadata": {}
  },
  {
   "cell_type": "code",
   "execution_count": null,
   "source": [
    "# Now, you are able to modify the objects internal attributes\r\n",
    "vlan1.voice = True\r\n",
    "\r\n",
    "# Apply changes\r\n",
    "changed = vlan1.apply()\r\n",
    "\r\n",
    "# If changed is True, a PUT request was done and object was modified\r\n"
   ],
   "outputs": [],
   "metadata": {}
  },
  {
   "cell_type": "code",
   "execution_count": null,
   "source": [
    "# More complex example using the OPEN GRANULATED APPROACH\r\n",
    "# Create an Interface object\r\n",
    "\r\n",
    "lag = Interface(s, 'lag1')\r\n",
    "lag.apply()\r\n",
    "\r\n"
   ],
   "outputs": [],
   "metadata": {}
  },
  {
   "cell_type": "code",
   "execution_count": null,
   "source": [
    "# Create a Vlan object\r\n",
    "\r\n",
    "vlan_1 = Vlan(s, 1)\r\n",
    "    # In this case, now that the VLAN exists within the Switch,\r\n",
    "    # a GET request is called to obtain the VLAN's information.\r\n",
    "    # The information is then added to the object as attributes.\r\n",
    "vlan_1.get()\r\n",
    "\r\n",
    " "
   ],
   "outputs": [],
   "metadata": {}
  },
  {
   "cell_type": "code",
   "execution_count": null,
   "source": [
    "\r\n",
    "# Interfaces/Ports added to LAG\r\n",
    "\r\n",
    "port_1_1_8 = Interface(s, '1/1/8')\r\n",
    "port_1_1_8.get()\r\n",
    "\r\n",
    "# Make changes to configure LAG as L2\r\n",
    "lag.admin = 'down'\r\n",
    "lag.routing = False\r\n",
    "lag.vlan_trunks = [vlan_1]\r\n",
    "lag.lacp = \"passive\"\r\n",
    "lag.other_config[\"mclag_enabled\"] = False\r\n",
    "lag.other_config[\"lacp-fallback\"] = False\r\n",
    "lag.vlan_mode = \"native-untagged\"\r\n",
    "lag.vlan_tag = vlan_1\r\n",
    "\r\n",
    "# Add port as LAG member\r\n",
    "lag.interfaces.append(port_1_1_8)\r\n",
    "\r\n",
    "# Apply changes\r\n",
    "lag.apply()\r\n",
    "\r\n",
    "# ===========================================================\r\n",
    "    "
   ],
   "outputs": [],
   "metadata": {}
  },
  {
   "cell_type": "markdown",
   "source": [
    "#  APPROACH 2: IMPERATIVE FACTORY APPROACH\n",
    "\n",
    "## pyaoscx.pyaoscx_factory provide a Factory class to instantiate all pyaoscx Modules through specific methods. https://github.com/aruba/pyaoscx/blob/master/pyaoscx/pyaoscx_factory.py\n",
    "\n",
    "### "
   ],
   "metadata": {}
  },
  {
   "cell_type": "code",
   "execution_count": null,
   "source": [
    "# Create VLAN 201\r\n",
    "# Create Factory object, passing the Session Object\r\n",
    "\r\n",
    "factory = PyaoscxFactory(s)\r\n"
   ],
   "outputs": [],
   "metadata": {}
  },
  {
   "cell_type": "code",
   "execution_count": null,
   "source": [
    "# Create Vlan object\r\n",
    "# If vlan is non-existent, Factory instantly creates it inside the switch device\r\n",
    "\r\n",
    "vlan201 = factory.vlan(201, \"NAME201\")\r\n"
   ],
   "outputs": [],
   "metadata": {}
  },
  {
   "cell_type": "markdown",
   "source": [
    "##  # same example using the IMPERATIVE FACTORY APPROACH\n",
    "##### "
   ],
   "metadata": {}
  },
  {
   "cell_type": "code",
   "execution_count": null,
   "source": [
    "# Create the Interface object\r\n",
    "lag2 = factory.interface('lag2')\r\n",
    "modified = lag2.configure_l2(\r\n",
    "        description=\"Created using imperative method\",\r\n",
    "        admin='up',\r\n",
    "        vlan_mode=\"native-untagged\",\r\n",
    "        vlan_tag=1,\r\n",
    "        trunk_allowed_all=True,\r\n",
    "        native_vlan_tag=True)\r\n",
    "\r\n",
    "# If modified is True, a PUT request was done and object was modified\r\n",
    "\r\n"
   ],
   "outputs": [],
   "metadata": {}
  },
  {
   "cell_type": "code",
   "execution_count": null,
   "source": [
    "#check if the VLAN is created\r\n",
    "\r\n",
    "Vlan.get_all(s)"
   ],
   "outputs": [],
   "metadata": {}
  },
  {
   "cell_type": "code",
   "execution_count": null,
   "source": [
    "# At the end, the session MUST be closed\r\n",
    "\r\n",
    "s.close()"
   ],
   "outputs": [],
   "metadata": {}
  },
  {
   "cell_type": "markdown",
   "source": [
    "# Challenge:\r\n",
    "### •\tGet the Access switch running-config configuration\r\n",
    "### •\tSave it to a checkpoint named “checkpoint1_by_pyaoscx”\r\n",
    "### •\tBackup running-config to tftp server 10.251.X.90 (X is your table number)\r\n"
   ],
   "metadata": {}
  },
  {
   "cell_type": "markdown",
   "source": [
    "#=======================================================================================\n",
    "\n",
    "# Solution:\n",
    "\n",
    "### Note:You have to change the below cell to \"code\" type and move them to the above the \"s.close\" cell to run.\n",
    " \n",
    "#### # Replace TFTP_Server_IP with your wired VLT(10.251.X.90)"
   ],
   "metadata": {}
  },
  {
   "cell_type": "markdown",
   "source": [
    "from pyaoscx.configuration import Configuration \r\n",
    "\r\n",
    "config1=Configuration(s)\r\n",
    "\r\n",
    "Configuration.get_full_config(config1,\"startup-config\")\r\n",
    "\r\n",
    "Configuration.create_checkpoint(config1,\"running-config\",\"checkpoint1_by_pyaoscx11\")\r\n",
    "\r\n",
    "Configuration.backup_configuration(config1, \"running-config\", output_file=\"test_config\",\r\n",
    "                             vrf=\"<VRF name\", config_type='json',\r\n",
    "                             remote_file_tftp_path=\"tftp://<TFTP server IP>/test_config\")  \r\n",
    "                             \r\n"
   ],
   "metadata": {}
  },
  {
   "cell_type": "markdown",
   "source": [
    "#  You completed the LAB4.2!\n",
    "#### "
   ],
   "metadata": {}
  }
 ],
 "metadata": {
  "kernelspec": {
   "display_name": "Python 3",
   "language": "python",
   "name": "python3"
  },
  "language_info": {
   "codemirror_mode": {
    "name": "ipython",
    "version": 3
   },
   "file_extension": ".py",
   "mimetype": "text/x-python",
   "name": "python",
   "nbconvert_exporter": "python",
   "pygments_lexer": "ipython3",
   "version": "3.8.5"
  }
 },
 "nbformat": 4,
 "nbformat_minor": 4
}