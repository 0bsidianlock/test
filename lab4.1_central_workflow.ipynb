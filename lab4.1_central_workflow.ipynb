{
 "cells": [
  {
   "cell_type": "markdown",
   "metadata": {},
   "source": [
    "# Aruba Central Python workflow-Example"
   ]
  },
  {
   "cell_type": "markdown",
   "metadata": {},
   "source": [
    "Pycentral is the Python package to programmatically interact with Aruba Central via \n",
    "REST APIs. We can download the REST API SDK from GitHub or PyPi. \n",
    "\n",
    "The pycentral subfolder contains the Aruba Central Python modules. Each module contains multiple Python classes. Each Class is a representation of some of Aruba Central's API categories, as mentioned in the API Reference section. Each Class has its own function definitions used to make a single REST API call.\n",
    "\n",
    "We have Aruba central API reference here: https://developer.arubanetworks.com/aruba-central/reference\n",
    "\n",
    "# Task Requirement:\n",
    "Utilize pycentral package to Create a new Site and a new Group , then move the APs to the new site and new group,and dynamically change it’s name to this format AP<Model>-<Sitename>-<Groupname>-<number>, for example, AP335-SJ-IAP-1.\n",
    "\n",
    "Before we run the code we should prepare the Variables from Aruba Central API gateway for base class ArubaCentralBase,like base_url etc.  then We will go though below workflows:\n",
    "\n",
    "\n",
    "•\tInstall requests library\n",
    "•\tInstall pycentral library\n",
    "•\tGet AP informarion\n",
    "•\tConfigure a new site and group\n",
    "•\tMove the APs  to new site and group\n",
    "•\tRe-achive AP information to verify if the APs get right site and AP information\n",
    "•\tRaname APs\n",
    "    \n"
   ]
  },
  {
   "cell_type": "markdown",
   "metadata": {},
   "source": [
    "# STEP1: install requests and pycentral"
   ]
  },
  {
   "cell_type": "code",
   "execution_count": 1,
   "metadata": {},
   "outputs": [
    {
     "name": "stdout",
     "output_type": "stream",
     "text": [
      "Requirement already satisfied: requests in c:\\programdata\\anaconda3\\lib\\site-packages (2.24.0)\n",
      "Requirement already satisfied: chardet<4,>=3.0.2 in c:\\programdata\\anaconda3\\lib\\site-packages (from requests) (3.0.4)\n",
      "Requirement already satisfied: urllib3!=1.25.0,!=1.25.1,<1.26,>=1.21.1 in c:\\programdata\\anaconda3\\lib\\site-packages (from requests) (1.25.11)\n",
      "Requirement already satisfied: certifi>=2017.4.17 in c:\\programdata\\anaconda3\\lib\\site-packages (from requests) (2020.6.20)\n",
      "Requirement already satisfied: idna<3,>=2.5 in c:\\programdata\\anaconda3\\lib\\site-packages (from requests) (2.10)\n"
     ]
    }
   ],
   "source": [
    "!pip install requests"
   ]
  },
  {
   "cell_type": "code",
   "execution_count": 2,
   "metadata": {},
   "outputs": [
    {
     "name": "stdout",
     "output_type": "stream",
     "text": [
      "Requirement already satisfied: pycentral in c:\\programdata\\anaconda3\\lib\\site-packages (0.0.2)\n",
      "Requirement already satisfied: urllib3 in c:\\programdata\\anaconda3\\lib\\site-packages (from pycentral) (1.25.11)\n",
      "Requirement already satisfied: requests in c:\\programdata\\anaconda3\\lib\\site-packages (from pycentral) (2.24.0)\n",
      "Requirement already satisfied: certifi in c:\\programdata\\anaconda3\\lib\\site-packages (from pycentral) (2020.6.20)\n",
      "Requirement already satisfied: PyYAML in c:\\programdata\\anaconda3\\lib\\site-packages (from pycentral) (5.3.1)\n",
      "Requirement already satisfied: idna<3,>=2.5 in c:\\programdata\\anaconda3\\lib\\site-packages (from requests->pycentral) (2.10)\n",
      "Requirement already satisfied: chardet<4,>=3.0.2 in c:\\programdata\\anaconda3\\lib\\site-packages (from requests->pycentral) (3.0.4)\n"
     ]
    }
   ],
   "source": [
    "!pip install pycentral"
   ]
  },
  {
   "cell_type": "markdown",
   "metadata": {},
   "source": [
    "# STEP2. Get central_info to access central API"
   ]
  },
  {
   "cell_type": "markdown",
   "metadata": {},
   "source": [
    "    # option1: access_token approach. replace base_url and access_token. "
   ]
  },
  {
   "cell_type": "markdown",
   "metadata": {},
   "source": [
    "central_info = {\n",
    "    \"base_url\": \"<api-gateway-domain-url>\",\n",
    "    \"token\": {\n",
    "        \"access_token\": \"<api-gateway-access-token>\"\n",
    "    }\n",
    "}"
   ]
  },
  {
   "cell_type": "markdown",
   "metadata": {},
   "source": [
    "    # Option2 OAUTH APIs approach.Replace username,Password,client_id,client_secret,customer_id and base_url with your own"
   ]
  },
  {
   "cell_type": "markdown",
   "metadata": {},
   "source": [
    "    # Option2 OAUTH APIs approach.Replace username,Password,client_id,client_secret,customer_id and base_url with your own\n",
    "    \n",
    " central_info = {\n",
    "    \n",
    "   \"username\": \"< aruba-central-account-username>\",\n",
    "   \n",
    "   \"password\": \"< aruba-central-account-password>\",\n",
    "   \n",
    "   \"client_id\": \"< api-gateway-client-id>\",\n",
    "   \n",
    "   \"client_secret\": \"< api-gateway-client-secret>\",\n",
    "   \n",
    "   \"customer_id\": \"< aruba-central-customer-id>\",\n",
    "   \n",
    "   \"base_url\": \"< api-gateway-domain-url>\"\n",
    "   \n",
    "   }"
   ]
  },
  {
   "cell_type": "markdown",
   "metadata": {},
   "source": [
    " # Step3 # Create an instance of ArubaCentralBase using API access token \n",
    "    # or API Gateway credentials."
   ]
  },
  {
   "cell_type": "code",
   "execution_count": 1,
   "metadata": {},
   "outputs": [],
   "source": [
    "from pycentral.base import ArubaCentralBase\n",
    "from pprint import pprint\n",
    "\n",
    "\n",
    "central_info = {\n",
    "    \"base_url\": \"< api-gateway-domain-url>\",\n",
    "    \"token\": {\n",
    "        \"access_token\": \"<Your access token>\"\n",
    "    }\n",
    "}\n",
    "\n",
    "\"\"\"central_info = {\n",
    "\n",
    "\"username\": \"< aruba-central-account-username>\",\n",
    "\"password\": \"< aruba-central-account-password>\",\n",
    "\"client_id\": \"< api-gateway-client-id>\",\n",
    "\"client_secret\": \"< api-gateway-client-secret>\",\n",
    "\"customer_id\": \"< aruba-central-customer-id>\",\n",
    "\"base_url\": \"< api-gateway-domain-url>\"\n",
    "}\n",
    "}\"\"\"\n",
    "\n",
    "\n",
    "ssl_verify = True\n",
    "\n",
    "central = ArubaCentralBase(central_info=central_info,\n",
    "                           ssl_verify=ssl_verify)\n"
   ]
  },
  {
   "cell_type": "markdown",
   "metadata": {},
   "source": [
    "Step4  Sample API calls using 'ArubaCentralBase.command()'  "
   ]
  },
  {
   "cell_type": "markdown",
   "metadata": {},
   "source": [
    "   # Description about command usage.\n",
    "\n",
    "def command(self, apiMethod, apiPath, apiData={}, apiParams={},\n",
    "                headers={}, files={}, retry_api_call=True):\n",
    "        \"\"\"This function calls requestURL to make an API call to Aruba Central after gathering parameters required for API call.\n",
    "        \n",
    "        When an API call fails with HTTP 401 error code, the same API call is retried once after an attempt to refresh access token or create new access token is made.\n",
    "        \n",
    "        :param apiMethod: HTTP Method for API call. Should be one of the supported methods for the respective Aruba Central API endpoint.\n",
    "        \n",
    "        :type apiMethod: str\n",
    "        \n",
    "        :param apiPath: Path to the API endpoint as required by API endpoint. Refer Aruba Central API reference swagger documentation.\n",
    "        \n",
    "        :type apiPath: str\n",
    "        \n",
    "        :param apiData: HTTP payload for the API call as required by API endpoint. Refer Aruba Central API reference swagger\n",
    "            documentation, defaults to {}\n",
    "            \n",
    "        :type apiData: dict, optional\n",
    "        \n",
    "        :param apiParams: HTTP url query parameters as required by API endpoint. Refer Aruba Central API reference\n",
    "            swagger, defaults to {}\n",
    "            \n",
    "        :type apiParams: dict, optional\n",
    "        \n",
    "        :param headers: HTTP headers as required by API endpoint. Refer Aruba Central API reference swagger, defaults to {}\n",
    "        \n",
    "        :type headers: dict, optional\n",
    "        \n",
    "        :param files: Some API endpoints require a file upload instead of apiData. Provide file data in the format accepted by API endpoint and Python requests library, defaults to {}\n",
    "        \n",
    "        :type files: dict, optional\n",
    "        \n",
    "        :param retry_api_call: Attempts to refresh api token and retry the api call when invalid token error is received, defaults to True\n",
    "        \n",
    "        :type retry_api_call: bool, optional\n",
    "        \n",
    "        :return: HTTP response with HTTP staus_code and HTTP response payload. \\n\n",
    "            * keyword code: HTTP status code \\n\n",
    "            * keyword msg: HTTP response payload \\n\n",
    "            * keyword headers: HTTP response headers \\n\n",
    "            \n",
    "        :rtype: dict\n",
    "     "
   ]
  },
  {
   "cell_type": "markdown",
   "metadata": {},
   "source": [
    " ## Step4.1 # GET sites from Aruba Central. according to the document, we should use apiParams to query."
   ]
  },
  {
   "cell_type": "code",
   "execution_count": 15,
   "metadata": {},
   "outputs": [
    {
     "name": "stdout",
     "output_type": "stream",
     "text": [
      "{'code': 200,\n",
      " 'headers': {'Access-Control-Allow-Origin': '*',\n",
      "             'Cache-Control': 'no-cache, no-store, must-revalidate, private',\n",
      "             'Connection': 'keep-alive',\n",
      "             'Content-Encoding': 'gzip',\n",
      "             'Content-Type': 'application/json',\n",
      "             'Date': 'Wed, 14 Jul 2021 03:56:49 GMT',\n",
      "             'Pragma': 'no-cache',\n",
      "             'Transfer-Encoding': 'chunked',\n",
      "             'Vary': 'Accept-Encoding',\n",
      "             'Via': 'kong/0.14.1',\n",
      "             'X-Frame-Options': 'SAMEORIGIN',\n",
      "             'X-Kong-Proxy-Latency': '89',\n",
      "             'X-Kong-Upstream-Latency': '322',\n",
      "             'X-RateLimit-Limit-day': '1000',\n",
      "             'X-RateLimit-Remaining-day': '923',\n",
      "             'X-Request-Start': 't=1626235009.788',\n",
      "             'X-XSS-Protection': '1; mode=block'},\n",
      " 'msg': {'count': 2,\n",
      "         'sites': [{'address': '3970 Rivermark Plaza',\n",
      "                    'associated_device_count': 2,\n",
      "                    'city': 'Santa Clara',\n",
      "                    'country': 'United States',\n",
      "                    'latitude': '37.3947253',\n",
      "                    'longitude': '-121.9475777',\n",
      "                    'site_id': 1,\n",
      "                    'site_name': 'site1',\n",
      "                    'state': 'California',\n",
      "                    'tags': None,\n",
      "                    'zipcode': '95053'},\n",
      "                   {'address': '3970 Rivermark Plaza',\n",
      "                    'associated_device_count': 0,\n",
      "                    'city': 'Santa Clara',\n",
      "                    'country': 'United States',\n",
      "                    'latitude': '37.3947253',\n",
      "                    'longitude': '-121.9475777',\n",
      "                    'site_id': 2,\n",
      "                    'site_name': 'site2',\n",
      "                    'state': 'California',\n",
      "                    'tags': None,\n",
      "                    'zipcode': '95053'}],\n",
      "         'total': 2}}\n"
     ]
    }
   ],
   "source": [
    "apiPath = \"/central/v2/sites\"\n",
    "\n",
    "apiMethod = \"GET\"\n",
    "\n",
    "apiParams = {\n",
    "    \"limit\": 20,\n",
    "    \"offset\": 0\n",
    "}\n",
    "base_resp = central.command(apiMethod=apiMethod, \n",
    "                            apiPath=apiPath,\n",
    "                            apiParams=apiParams)\n",
    "pprint(base_resp)\n"
   ]
  },
  {
   "cell_type": "markdown",
   "metadata": {},
   "source": [
    "## STEP4.2  # GET APs from Aruba Central.according to the document, we should use apiParams to query."
   ]
  },
  {
   "cell_type": "code",
   "execution_count": 5,
   "metadata": {},
   "outputs": [
    {
     "name": "stdout",
     "output_type": "stream",
     "text": [
      "{'code': 200,\n",
      " 'headers': {'Connection': 'keep-alive',\n",
      "             'Content-Encoding': 'gzip',\n",
      "             'Content-Type': 'application/json',\n",
      "             'Date': 'Wed, 14 Jul 2021 02:44:48 GMT',\n",
      "             'Transfer-Encoding': 'chunked',\n",
      "             'Vary': 'Accept-Encoding',\n",
      "             'Via': 'kong/0.14.1',\n",
      "             'X-Frame-Options': 'SAMEORIGIN',\n",
      "             'X-Kong-Proxy-Latency': '191',\n",
      "             'X-Kong-Upstream-Latency': '389',\n",
      "             'X-RateLimit-Limit-day': '1000',\n",
      "             'X-RateLimit-Remaining-day': '933',\n",
      "             'X-Request-Start': 't=1626230688.736',\n",
      "             'X-XSS-Protection': '1; mode=block',\n",
      "             'access-control-allow-origin': '*',\n",
      "             'cache-control': 'no-cache, no-store, must-revalidate, private',\n",
      "             'pragma': 'no-cache'},\n",
      " 'msg': {'aps': [{'ap_deployment_mode': 'IAP',\n",
      "                  'ap_group': None,\n",
      "                  'cluster_id': '',\n",
      "                  'controller_name': '',\n",
      "                  'firmware_version': '8.7.1.4_80581',\n",
      "                  'gateway_cluster_id': '',\n",
      "                  'gateway_cluster_name': '',\n",
      "                  'group_name': 'IAP-GROUP-test',\n",
      "                  'ip_address': '10.1.15.150',\n",
      "                  'labels': [],\n",
      "                  'last_modified': 1626206623,\n",
      "                  'macaddr': '20:4c:03:d7:3d:70',\n",
      "                  'mesh_role': 'Unknown',\n",
      "                  'model': '505H',\n",
      "                  'name': '20:4c:03:d7:3d:70',\n",
      "                  'notes': None,\n",
      "                  'public_ip_address': '216.45.6.252',\n",
      "                  'radios': [{'band': 1,\n",
      "                              'index': 0,\n",
      "                              'macaddr': 'cc:d0:83:e3:10:d0',\n",
      "                              'status': 'Down'},\n",
      "                             {'band': 0,\n",
      "                              'index': 1,\n",
      "                              'macaddr': 'cc:d0:83:e3:10:c0',\n",
      "                              'status': 'Up'}],\n",
      "                  'serial': 'CNLKKSM4J6',\n",
      "                  'site': 'site1',\n",
      "                  'status': 'Up',\n",
      "                  'subnet_mask': '255.255.255.0',\n",
      "                  'swarm_id': 'd724b42f01cae1ad8e843b541a6b81828c660df00c8b82b47e',\n",
      "                  'swarm_master': True,\n",
      "                  'swarm_name': 'SetMeUp-D7:3D:70'},\n",
      "                 {'ap_deployment_mode': 'IAP',\n",
      "                  'ap_group': None,\n",
      "                  'cluster_id': '',\n",
      "                  'controller_name': '',\n",
      "                  'firmware_version': '8.7.1.4_80581',\n",
      "                  'gateway_cluster_id': '',\n",
      "                  'gateway_cluster_name': '',\n",
      "                  'group_name': 'IAP-GROUP-test',\n",
      "                  'ip_address': '10.1.16.150',\n",
      "                  'labels': [],\n",
      "                  'last_modified': 1626206462,\n",
      "                  'macaddr': '20:4c:03:d7:30:5f',\n",
      "                  'mesh_role': 'Unknown',\n",
      "                  'model': '505H',\n",
      "                  'name': '20:4c:03:d7:30:5f',\n",
      "                  'notes': None,\n",
      "                  'public_ip_address': '216.45.6.252',\n",
      "                  'radios': [{'band': 1,\n",
      "                              'index': 0,\n",
      "                              'macaddr': 'cc:d0:83:e3:1d:d0',\n",
      "                              'status': 'Down'},\n",
      "                             {'band': 0,\n",
      "                              'index': 1,\n",
      "                              'macaddr': 'cc:d0:83:e3:1d:c0',\n",
      "                              'status': 'Up'}],\n",
      "                  'serial': 'CNLKKSM4MK',\n",
      "                  'site': 'site1',\n",
      "                  'status': 'Up',\n",
      "                  'subnet_mask': '255.255.255.0',\n",
      "                  'swarm_id': '208f19dc01700bdf6171f7dec29f5cded2a446ec49d149f84a',\n",
      "                  'swarm_master': True,\n",
      "                  'swarm_name': 'SetMeUp-D7:30:5F'}],\n",
      "         'count': 2}}\n"
     ]
    }
   ],
   "source": [
    "apiPath = \"/monitoring/v2/aps\"\n",
    "\n",
    "apiMethod = \"GET\"\n",
    "\n",
    "apiParams = {\n",
    "    \"limit\": 20,\n",
    "    \"offset\": 0\n",
    "}\n",
    "base_resp = central.command(apiMethod=apiMethod, \n",
    "                            apiPath=apiPath,\n",
    "                            apiParams=apiParams)\n",
    "pprint(base_resp)\n",
    "\n"
   ]
  },
  {
   "cell_type": "markdown",
   "metadata": {},
   "source": [
    "## Step4.3     # post(CREATE) a new site. According to the document, we should use apiData to create. "
   ]
  },
  {
   "cell_type": "code",
   "execution_count": 7,
   "metadata": {},
   "outputs": [
    {
     "name": "stdout",
     "output_type": "stream",
     "text": [
      "{'code': 200,\n",
      " 'headers': {'Access-Control-Allow-Origin': '*',\n",
      "             'Cache-Control': 'no-cache, no-store, must-revalidate, private',\n",
      "             'Connection': 'keep-alive',\n",
      "             'Content-Length': '241',\n",
      "             'Content-Type': 'application/json',\n",
      "             'Date': 'Wed, 14 Jul 2021 02:46:21 GMT',\n",
      "             'Pragma': 'no-cache',\n",
      "             'Via': 'kong/0.14.1',\n",
      "             'X-Frame-Options': 'SAMEORIGIN',\n",
      "             'X-Kong-Proxy-Latency': '86',\n",
      "             'X-Kong-Upstream-Latency': '627',\n",
      "             'X-RateLimit-Limit-day': '1000',\n",
      "             'X-RateLimit-Remaining-day': '931',\n",
      "             'X-Request-Start': 't=1626230781.566',\n",
      "             'X-XSS-Protection': '1; mode=block'},\n",
      " 'msg': {'address': '3970 Rivermark Plaza',\n",
      "         'city': 'Santa Clara',\n",
      "         'country': 'United States',\n",
      "         'latitude': '37.3947253',\n",
      "         'longitude': '-121.9475777',\n",
      "         'site_id': 2,\n",
      "         'site_name': 'site2',\n",
      "         'state': 'California',\n",
      "         'zipcode': '95053'}}\n"
     ]
    }
   ],
   "source": [
    "apiPath = \"/central/v2/sites\"\n",
    "apiMethod = \"POST\"\n",
    "apiData = {\n",
    "    \"site_address\": {\n",
    "        \"address\": \"3970 Rivermark Plaza\",\n",
    "        \"city\": \"Santa Clara\",\n",
    "        \"state\": \"California\",\n",
    "        \"country\": \"United States\",\n",
    "        \"zipcode\": \"95053\"\n",
    "    },\n",
    "    \"site_name\": \"site2\"\n",
    "}\n",
    "\n",
    "base_resp = central.command(apiMethod=apiMethod, \n",
    "                            apiPath=apiPath,\n",
    "                            apiData=apiData)\n",
    "pprint(base_resp)\n"
   ]
  },
  {
   "cell_type": "markdown",
   "metadata": {},
   "source": [
    "## Step4.4 \n",
    "#Put the APs into the site. \n",
    "#get the site_id from the above outputs.\n",
    "#get the device_ids(Serial number)from AP information.\n",
    "#get the URL and request method from swagger or Developer API reference. "
   ]
  },
  {
   "cell_type": "code",
   "execution_count": 8,
   "metadata": {},
   "outputs": [
    {
     "name": "stdout",
     "output_type": "stream",
     "text": [
      "{'code': 200,\n",
      " 'headers': {'Access-Control-Allow-Origin': '*',\n",
      "             'Cache-Control': 'no-cache, no-store, must-revalidate, private',\n",
      "             'Connection': 'keep-alive',\n",
      "             'Content-Length': '232',\n",
      "             'Content-Type': 'application/json',\n",
      "             'Date': 'Wed, 14 Jul 2021 02:48:11 GMT',\n",
      "             'Pragma': 'no-cache',\n",
      "             'Via': 'kong/0.14.1',\n",
      "             'X-Frame-Options': 'SAMEORIGIN',\n",
      "             'X-Kong-Proxy-Latency': '83',\n",
      "             'X-Kong-Upstream-Latency': '587',\n",
      "             'X-RateLimit-Limit-day': '1000',\n",
      "             'X-RateLimit-Remaining-day': '930',\n",
      "             'X-Request-Start': 't=1626230891.823',\n",
      "             'X-XSS-Protection': '1; mode=block'},\n",
      " 'msg': {'failed': [{'device_id': 'CNLKKSM4J6',\n",
      "                     'reason': 'SITE_ERR_MAX_NO_ALREADY_ASSIGNED'},\n",
      "                    {'device_id': 'CNLKKSM4MK',\n",
      "                     'reason': 'SITE_ERR_MAX_NO_ALREADY_ASSIGNED'}],\n",
      "         'success': []}}\n"
     ]
    }
   ],
   "source": [
    "apiPath = \"central/v2/sites/associations\"\n",
    "\n",
    "apiMethod = \"POST\"\n",
    "\n",
    "# for different table, please replace the Serial number below with your own APs'.\n",
    "\n",
    "apiData = {\n",
    "    \"device_type\": \"IAP\",\n",
    "    \"device_ids\": [\"<serial number of AP1>\", \"<serial number of AP2>\"],\n",
    "    \"site_id\": 1\n",
    "}\n",
    "\n",
    "\n",
    "base_resp = central.command(apiMethod=apiMethod, \n",
    "                            apiPath=apiPath,\n",
    "                            apiData=apiData)\n",
    "pprint(base_resp)\n"
   ]
  },
  {
   "cell_type": "markdown",
   "metadata": {},
   "source": [
    "## Step4.5    # Post(CREATE) a new group. According to the document, we should use apiData to create. "
   ]
  },
  {
   "cell_type": "code",
   "execution_count": 9,
   "metadata": {},
   "outputs": [
    {
     "name": "stdout",
     "output_type": "stream",
     "text": [
      "{'code': 400,\n",
      " 'headers': {'Access-Control-Allow-Origin': '*',\n",
      "             'Cache-Control': 'no-cache, no-store, must-revalidate, private',\n",
      "             'Connection': 'keep-alive',\n",
      "             'Content-Length': '125',\n",
      "             'Content-Type': 'application/json',\n",
      "             'Date': 'Wed, 14 Jul 2021 02:52:45 GMT',\n",
      "             'Pragma': 'no-cache',\n",
      "             'Via': 'kong/0.14.1',\n",
      "             'X-Frame-Options': 'SAMEORIGIN',\n",
      "             'X-Kong-Proxy-Latency': '91',\n",
      "             'X-Kong-Upstream-Latency': '304',\n",
      "             'X-RateLimit-Limit-day': '1000',\n",
      "             'X-RateLimit-Remaining-day': '929',\n",
      "             'X-Request-Start': 't=1626231165.099',\n",
      "             'X-XSS-Protection': '1; mode=block'},\n",
      " 'msg': {'description': 'Group name IAP-GROUP-test already exists',\n",
      "         'error_code': '0001',\n",
      "         'service_name': 'Configuration'}}\n"
     ]
    }
   ],
   "source": [
    "apiPath = \"configuration/v2/groups\"\n",
    "\n",
    "apiMethod = \"POST\"\n",
    "\n",
    "apiData = {\n",
    "    \"group_attributes\": {\n",
    "        \"template_info\": {\n",
    "            \"Wired\": False,\n",
    "            \"Wireless\": False\n",
    "        },\n",
    "        \"group_password\": \"Aruba123!\"\n",
    "    },\n",
    "    \"group\": \"IAP-GROUP-test\"\n",
    "}\n",
    "\n",
    "\n",
    "base_resp = central.command(apiMethod=apiMethod, \n",
    "                            apiPath=apiPath,\n",
    "                            apiData=apiData)\n",
    "pprint(base_resp)"
   ]
  },
  {
   "cell_type": "markdown",
   "metadata": {},
   "source": [
    "## Step4.6    # associate the two APs to this group\"IAP-GROUP-test\"."
   ]
  },
  {
   "cell_type": "code",
   "execution_count": 92,
   "metadata": {},
   "outputs": [
    {
     "name": "stdout",
     "output_type": "stream",
     "text": [
      "{'code': 200,\n",
      " 'headers': {'Access-Control-Allow-Origin': '*',\n",
      "             'Cache-Control': 'no-cache, no-store, must-revalidate, private',\n",
      "             'Connection': 'keep-alive',\n",
      "             'Content-Length': '10',\n",
      "             'Content-Type': 'application/json',\n",
      "             'Date': 'Wed, 14 Jul 2021 01:31:33 GMT',\n",
      "             'Pragma': 'no-cache',\n",
      "             'Via': 'kong/0.14.1',\n",
      "             'X-Frame-Options': 'SAMEORIGIN',\n",
      "             'X-Kong-Proxy-Latency': '86',\n",
      "             'X-Kong-Upstream-Latency': '1093',\n",
      "             'X-RateLimit-Limit-day': '1000',\n",
      "             'X-RateLimit-Remaining-day': '941',\n",
      "             'X-Request-Start': 't=1626226293.783',\n",
      "             'X-XSS-Protection': '1; mode=block'},\n",
      " 'msg': 'Success'}\n"
     ]
    }
   ],
   "source": [
    "apiPath = \"configuration/v1/devices/move\"\n",
    "apiMethod = \"POST\"\n",
    "apiData = {\n",
    "    \"serials\": [\"<serial number of AP1>\", \"<serial number of AP2>\"],\n",
    "    \"group\": \"IAP-GROUP-test\"\n",
    "}\n",
    "\n",
    "base_resp = central.command(apiMethod=apiMethod, \n",
    "                            apiPath=apiPath,\n",
    "                            apiData=apiData)\n",
    "pprint(base_resp)\n",
    "\n"
   ]
  },
  {
   "cell_type": "markdown",
   "metadata": {},
   "source": [
    "## step4.7  check if the APs get the new site name and new group."
   ]
  },
  {
   "cell_type": "code",
   "execution_count": 13,
   "metadata": {},
   "outputs": [
    {
     "name": "stderr",
     "output_type": "stream",
     "text": [
      "2021-07-13 20:15:44 - ARUBA_BASE - ERROR - Received error 401 on requesting url https://apigw-prod2.central.arubanetworks.com/monitoring/v2/aps?limit=20&offset=0 with resp {\"error_description\":\"The access token is invalid or has expired\",\"error\":\"invalid_token\"}\n",
      "\n",
      "2021-07-13 20:15:44 - ARUBA_BASE - INFO - Handling Token Expiry...\n",
      "2021-07-13 20:15:45 - ARUBA_BASE - ERROR - Refresh token API call failed with response {'code': 400, 'msg': '{\"error_description\":\"Invalid refresh_token\",\"error\":\"invalid_request\"}\\n'}\n",
      "2021-07-13 20:15:45 - ARUBA_BASE - INFO - Attemping to create new token...\n",
      "2021-07-13 20:15:50 - ARUBA_BASE - INFO - Central Login Successfull.. Obtained Access Token!\n",
      "2021-07-13 20:15:50 - ARUBA_BASE - INFO - Stored Aruba Central token in file C:\\Users\\kevin\\temp\\tok_17c5e9b5e1ea4e21a695ec3bfc00fad2_Uh5YsqnoCENUaGSw6SHHAKrPGsbt2i9t.json\n"
     ]
    },
    {
     "name": "stdout",
     "output_type": "stream",
     "text": [
      "{'code': 200,\n",
      " 'headers': {'Connection': 'keep-alive',\n",
      "             'Content-Encoding': 'gzip',\n",
      "             'Content-Type': 'application/json',\n",
      "             'Date': 'Wed, 14 Jul 2021 03:15:52 GMT',\n",
      "             'Transfer-Encoding': 'chunked',\n",
      "             'Vary': 'Accept-Encoding',\n",
      "             'Via': 'kong/0.14.1',\n",
      "             'X-Frame-Options': 'SAMEORIGIN',\n",
      "             'X-Kong-Proxy-Latency': '309',\n",
      "             'X-Kong-Upstream-Latency': '318',\n",
      "             'X-RateLimit-Limit-day': '1000',\n",
      "             'X-RateLimit-Remaining-day': '925',\n",
      "             'X-Request-Start': 't=1626232552.100',\n",
      "             'X-XSS-Protection': '1; mode=block',\n",
      "             'access-control-allow-origin': '*',\n",
      "             'cache-control': 'no-cache, no-store, must-revalidate, private',\n",
      "             'pragma': 'no-cache'},\n",
      " 'msg': {'aps': [{'ap_deployment_mode': 'IAP',\n",
      "                  'ap_group': None,\n",
      "                  'cluster_id': '',\n",
      "                  'controller_name': '',\n",
      "                  'firmware_version': '8.7.1.4_80581',\n",
      "                  'gateway_cluster_id': '',\n",
      "                  'gateway_cluster_name': '',\n",
      "                  'group_name': 'IAP-GROUP-test',\n",
      "                  'ip_address': '10.1.15.150',\n",
      "                  'labels': [],\n",
      "                  'last_modified': 1626206623,\n",
      "                  'macaddr': '20:4c:03:d7:3d:70',\n",
      "                  'mesh_role': 'Unknown',\n",
      "                  'model': '505H',\n",
      "                  'name': '20:4c:03:d7:3d:70',\n",
      "                  'notes': None,\n",
      "                  'public_ip_address': '216.45.6.252',\n",
      "                  'radios': [{'band': 1,\n",
      "                              'index': 0,\n",
      "                              'macaddr': 'cc:d0:83:e3:10:d0',\n",
      "                              'status': 'Down'},\n",
      "                             {'band': 0,\n",
      "                              'index': 1,\n",
      "                              'macaddr': 'cc:d0:83:e3:10:c0',\n",
      "                              'status': 'Up'}],\n",
      "                  'serial': 'CNLKKSM4J6',\n",
      "                  'site': 'site1',\n",
      "                  'status': 'Up',\n",
      "                  'subnet_mask': '255.255.255.0',\n",
      "                  'swarm_id': 'd724b42f01cae1ad8e843b541a6b81828c660df00c8b82b47e',\n",
      "                  'swarm_master': True,\n",
      "                  'swarm_name': 'SetMeUp-D7:3D:70'},\n",
      "                 {'ap_deployment_mode': 'IAP',\n",
      "                  'ap_group': None,\n",
      "                  'cluster_id': '',\n",
      "                  'controller_name': '',\n",
      "                  'firmware_version': '8.7.1.4_80581',\n",
      "                  'gateway_cluster_id': '',\n",
      "                  'gateway_cluster_name': '',\n",
      "                  'group_name': 'IAP-GROUP-test',\n",
      "                  'ip_address': '10.1.16.150',\n",
      "                  'labels': [],\n",
      "                  'last_modified': 1626206462,\n",
      "                  'macaddr': '20:4c:03:d7:30:5f',\n",
      "                  'mesh_role': 'Unknown',\n",
      "                  'model': '505H',\n",
      "                  'name': '20:4c:03:d7:30:5f',\n",
      "                  'notes': None,\n",
      "                  'public_ip_address': '216.45.6.252',\n",
      "                  'radios': [{'band': 1,\n",
      "                              'index': 0,\n",
      "                              'macaddr': 'cc:d0:83:e3:1d:d0',\n",
      "                              'status': 'Down'},\n",
      "                             {'band': 0,\n",
      "                              'index': 1,\n",
      "                              'macaddr': 'cc:d0:83:e3:1d:c0',\n",
      "                              'status': 'Up'}],\n",
      "                  'serial': 'CNLKKSM4MK',\n",
      "                  'site': 'site1',\n",
      "                  'status': 'Up',\n",
      "                  'subnet_mask': '255.255.255.0',\n",
      "                  'swarm_id': '208f19dc01700bdf6171f7dec29f5cded2a446ec49d149f84a',\n",
      "                  'swarm_master': True,\n",
      "                  'swarm_name': 'SetMeUp-D7:30:5F'}],\n",
      "         'count': 2}}\n",
      "['AP-505H-site1-IAP-GROUP-test-1', 'AP-505H-site1-IAP-GROUP-test-2']\n"
     ]
    }
   ],
   "source": [
    "apiPath = \"/monitoring/v2/aps\"\n",
    "\n",
    "apiMethod = \"GET\"\n",
    "\n",
    "apiParams = {\n",
    "    \"limit\": 20,\n",
    "    \"offset\": 0\n",
    "}\n",
    "base_resp = central.command(apiMethod=apiMethod, \n",
    "                            apiPath=apiPath,\n",
    "                            apiParams=apiParams)\n",
    "pprint(base_resp)\n",
    "\n",
    "ap_dict= base_resp[\"msg\"][\"aps\"] \n",
    "ap_number = base_resp[\"msg\"][\"count\"]\n",
    "ap_list=[]\n",
    "# build a AP list including the new names.\n",
    "\n",
    "for i in range(ap_number):\n",
    "   ap_list.append(\"AP-\" + ap_dict[i][\"model\"] + \"-\" +ap_dict[i][\"site\"]+\"-\"+ap_dict[i][\"group_name\"]+\"-\"+str(i+1))\n",
    "\n",
    "\n",
    "print (ap_list)\n"
   ]
  },
  {
   "cell_type": "markdown",
   "metadata": {},
   "source": [
    "## Step4.8 #Rename the AP with \"AP-<MODEL>-<SITE NAME>-<GROUP NAME>-<ap number>\""
   ]
  },
  {
   "cell_type": "code",
   "execution_count": 16,
   "metadata": {},
   "outputs": [
    {
     "name": "stdout",
     "output_type": "stream",
     "text": [
      "{'hostname': 'AP-505H-site1-IAP-GROUP-test-1'}\n",
      "{'code': 500,\n",
      " 'headers': {'Access-Control-Allow-Origin': '*',\n",
      "             'Cache-Control': 'no-cache, no-store, must-revalidate, private',\n",
      "             'Connection': 'keep-alive',\n",
      "             'Content-Length': '95',\n",
      "             'Content-Type': 'application/json',\n",
      "             'Date': 'Wed, 14 Jul 2021 04:00:11 GMT',\n",
      "             'Pragma': 'no-cache',\n",
      "             'Via': 'kong/0.14.1',\n",
      "             'X-Frame-Options': 'SAMEORIGIN',\n",
      "             'X-Kong-Proxy-Latency': '417',\n",
      "             'X-Kong-Upstream-Latency': '207',\n",
      "             'X-RateLimit-Limit-day': '1000',\n",
      "             'X-RateLimit-Remaining-day': '922',\n",
      "             'X-Request-Start': 't=1626235211.764',\n",
      "             'X-XSS-Protection': '1; mode=block'},\n",
      " 'msg': {'description': 'ip_address',\n",
      "         'error_code': '0001',\n",
      "         'service_name': 'Configuration'}}\n",
      "{'hostname': 'AP-505H-site1-IAP-GROUP-test-2'}\n",
      "{'code': 500,\n",
      " 'headers': {'Access-Control-Allow-Origin': '*',\n",
      "             'Cache-Control': 'no-cache, no-store, must-revalidate, private',\n",
      "             'Connection': 'keep-alive',\n",
      "             'Content-Length': '95',\n",
      "             'Content-Type': 'application/json',\n",
      "             'Date': 'Wed, 14 Jul 2021 04:00:12 GMT',\n",
      "             'Pragma': 'no-cache',\n",
      "             'Via': 'kong/0.14.1',\n",
      "             'X-Frame-Options': 'SAMEORIGIN',\n",
      "             'X-Kong-Proxy-Latency': '338',\n",
      "             'X-Kong-Upstream-Latency': '209',\n",
      "             'X-RateLimit-Limit-day': '1000',\n",
      "             'X-RateLimit-Remaining-day': '921',\n",
      "             'X-Request-Start': 't=1626235212.437',\n",
      "             'X-XSS-Protection': '1; mode=block'},\n",
      " 'msg': {'description': 'ip_address',\n",
      "         'error_code': '0001',\n",
      "         'service_name': 'Configuration'}}\n"
     ]
    }
   ],
   "source": [
    "#use for loop to execute API calls to change AP name one by one.\n",
    "apiData={}\n",
    "\n",
    "for i in range(ap_number):\n",
    "  apiPath = \"configuration/v2/ap_settings/\"+ ap_dict[i][\"serial\"]\n",
    "  apiMethod = \"POST\"\n",
    "  apiData={\n",
    "    \"hostname\": ap_list[i],\n",
    "    \"ip_address\": \"\",\n",
    "    \"zonename\": \"\",\n",
    "    \"achannel\": \"\",\n",
    "    \"atxpower\": \"\",\n",
    "    \"gchannel\": \"\",\n",
    "    \"gtxpower\": \"\",\n",
    "    \"dot11a_radio_disable\": True,\n",
    "    \"dot11g_radio_disable\": True,\n",
    "    \"usb_port_disable\": True\n",
    "    }\n",
    "     \n",
    "\n",
    "  print(apiData)\n",
    "  base_resp = central.command(apiMethod=apiMethod, \n",
    "                            apiPath=apiPath,\n",
    "                            apiData=apiData)\n",
    "    \n",
    "  pprint(base_resp)\n"
   ]
  },
  {
   "cell_type": "markdown",
   "metadata": {},
   "source": [
    "Note: we have another workflow to use a csv file to import the AP's serial and hostname. check out developer website. https://developer.arubanetworks.com/aruba-central/docs/python-workflows-rest-api\n",
    "\n",
    "and also, we have multiple way to handle the AP information. For example, we can download the AP information firectly from Aruba Central GUI,then change the format we need. or use pandas which is a Python library can esily handle csv or excel chart."
   ]
  },
  {
   "cell_type": "markdown",
   "metadata": {},
   "source": [
    "    #Attched another workflow to handle AP information mentioned above for reference. more detail please check developer website."
   ]
  },
  {
   "cell_type": "code",
   "execution_count": null,
   "metadata": {},
   "outputs": [],
   "source": [
    "\n",
    "#Sample CSV file:\n",
    "\n",
    "serial_number,hostname,ip_address,zonename,achannel,atxpower,gchannel,gtxpower,dot11a_radio_disable,dot11g_radio_disable,usb_port_disable\n",
    "AAAAAAAAAA,AP1,,,,,,,,,\n",
    "BBBBBBBBBB,AP2,,,,,,,,,\n",
    "\n",
    "# Create the following files by refering to the samples.\n",
    "csv_filename = \"csv_file.csv\"\n",
    "central_filename = \"input_token_only.yaml\"\n",
    "\n",
    "# Get instance of ArubaCentralBase from the central_filename\n",
    "from pycentral.workflows.workflows_utils import get_conn_from_file\n",
    "central = get_conn_from_file(filename=central_filename)\n",
    "\n",
    "# Rename AP using the workflow `workflows.config_apsettings_from_csv.py`\n",
    "from pycentral.workflows.config_apsettings_from_csv import ApSettingsCsv\n",
    "ApSettingsCsv(conn=central, csv_filename=csv_filename)"
   ]
  },
  {
   "cell_type": "code",
   "execution_count": null,
   "metadata": {},
   "outputs": [],
   "source": [
    "#Attached pandas to handle AP information for reference."
   ]
  },
  {
   "cell_type": "markdown",
   "metadata": {},
   "source": [
    "import http.client\n",
    "import pandas as pd\n",
    "import json\n",
    "import pprint as pp\n",
    "\n",
    "conn = http.client.HTTPSConnection(\"API gateway URL\")\n",
    "\n",
    "payload = ''\n",
    "\n",
    "#change the below access_token\n",
    "\n",
    "headers = {\n",
    "  'Authorization': 'KBdW22yu7OSztv4R8wIZzZqVZ1OZRnZ2'\n",
    "}\n",
    "\n",
    "conn.request(\"GET\", \"/monitoring/v1/aps\", payload, headers)\n",
    "\n",
    "res = conn.getresponse()\n",
    "\n",
    "data = res.read()\n",
    "\n",
    "data_json=json.loads(data)\n",
    "\n",
    "print(data_json)\n",
    "\n",
    "df = pd.DataFrame(data_json[\"aps\"])\n",
    "\n",
    "df[['name','serial']].to_csv(\"apinfo.csv\")\n",
    "\n",
    "df['achannel']=\"\"\n",
    "\n",
    "df['atxpower']=\"\"\n",
    "\n",
    "df['gtxpower']=\"\"\n",
    "\n",
    "df['gchannel']=\"\"\n",
    "\n",
    "df['dot11a_radio_disable']=\"\"\n",
    "\n",
    "df['dot11g_radio_disable']=\"\"\n",
    "\n",
    "df['usb_port_disable']=\"\"\n",
    "\n",
    "df['zonename']=\"\"\n",
    "\n",
    "ap_count=int(pd.DataFrame(data_json)[\"count\"][0])\n",
    "\n",
    "for i in df.index:\n",
    "\n",
    " df.at[i,'name']=df.at[i,'site']+'-AP'+df.at[i,'model']+\"-\"+str(i)\n",
    " \n",
    "df=df.rename(columns={\"serial\": \"serial_number\", \"name\": \"hostname\"})\n",
    "\n",
    "df.loc[:,['serial_number','hostname','ip_address','zonename','achannel','atxpower','gtxpower','gchannel','dot11a_radio_disable','dot11g_radio_disable','usb_port_disable']].to_csv(\"csv_file.csv\",index=False)\n"
   ]
  },
  {
   "cell_type": "code",
   "execution_count": null,
   "metadata": {},
   "outputs": [],
   "source": []
  }
 ],
 "metadata": {
  "kernelspec": {
   "display_name": "Python 3",
   "language": "python",
   "name": "python3"
  },
  "language_info": {
   "codemirror_mode": {
    "name": "ipython",
    "version": 3
   },
   "file_extension": ".py",
   "mimetype": "text/x-python",
   "name": "python",
   "nbconvert_exporter": "python",
   "pygments_lexer": "ipython3",
   "version": "3.8.5"
  }
 },
 "nbformat": 4,
 "nbformat_minor": 4
}
