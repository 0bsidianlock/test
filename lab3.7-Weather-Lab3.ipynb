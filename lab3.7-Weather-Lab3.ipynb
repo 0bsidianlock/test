{
 "cells": [
  {
   "cell_type": "markdown",
   "source": [
    "## Lab3 Task7"
   ],
   "metadata": {}
  },
  {
   "cell_type": "markdown",
   "source": [
    "    #The Lab is for LAB3 Task  - Use Python requests module to make an API call (Weather) and Parse JSON data to Python Format."
   ],
   "metadata": {}
  },
  {
   "cell_type": "markdown",
   "source": [
    "Requirement:\r\n",
    "\r\n",
    "Make a GET API call. Integrate base API endpoint, city, and API key to get the full URL. Then transfer the JSON result to Python format. Analyze the Python data architecture. Print out city name and part of data we need. in this case, it is weather \"description.\""
   ],
   "metadata": {}
  },
  {
   "cell_type": "code",
   "execution_count": null,
   "source": [
    "# Import required external Module\r\n",
    "import pprint \r\n",
    "import requests # importing the request module\r\n",
    "import json # this is used to parse JSON format"
   ],
   "outputs": [],
   "metadata": {}
  },
  {
   "cell_type": "markdown",
   "source": [
    "    #Achive city and appid information.`"
   ],
   "metadata": {}
  },
  {
   "cell_type": "code",
   "execution_count": null,
   "source": [
    "appid = \"4b635b2773512f4c1fbadb0e260f1eec\"\r\n",
    "city = input(\"enter city name: \")"
   ],
   "outputs": [],
   "metadata": {}
  },
  {
   "cell_type": "markdown",
   "source": [
    "    #get the full API endpoint. "
   ],
   "metadata": {}
  },
  {
   "cell_type": "code",
   "execution_count": null,
   "source": [
    "base_url = 'http://api.openweathermap.org/data/2.5/weather?'         # text from a website\r\n",
    "params = \"q=%s&appid=%s\" % (city,appid)                             # %s is the variable which will be replaced by later variables in () in order.\r\n",
    "full_url = base_url+params\r\n",
    "\r\n",
    "print(full_url)                                                  # this is not nessessary. just for verifying."
   ],
   "outputs": [],
   "metadata": {}
  },
  {
   "cell_type": "markdown",
   "source": [
    "    #To open a network connection, we need a package called requests - it allows us to open a network connection and implement CRUD(create, read, update and delete) operations."
   ],
   "metadata": {}
  },
  {
   "cell_type": "code",
   "execution_count": null,
   "source": [
    "#use requests module to get data.\r\n",
    "response = requests.get(full_url) # opening a network and fetching a data"
   ],
   "outputs": [],
   "metadata": {}
  },
  {
   "cell_type": "markdown",
   "source": [
    "    #print out result (JSON format) and request status code."
   ],
   "metadata": {}
  },
  {
   "cell_type": "code",
   "execution_count": null,
   "source": [
    "pprint.pformat(response)\r\n",
    "pprint.pformat(response.status_code)    # status code, success:200\r\n",
    "pprint.pprint(response.text) # gives all the text from the page"
   ],
   "outputs": [],
   "metadata": {}
  },
  {
   "cell_type": "markdown",
   "source": [
    "    # Parsing JSON to python format."
   ],
   "metadata": {}
  },
  {
   "cell_type": "code",
   "execution_count": null,
   "source": [
    "data_python = json.loads(response.text)  \r\n",
    "    #Json module has two functions to parsing json to python.\r\n",
    "    #one is load() which requires a file as the argument. \r\n",
    "    #another is loads() which requires a string as the argument. in this case we are using loads()\r\n",
    "pprint.pprint(data_python)"
   ],
   "outputs": [],
   "metadata": {}
  },
  {
   "cell_type": "markdown",
   "source": [
    "    #Custom the output as needed. In this case, we need to print out the city and its weather description.\r\n",
    "    #let us analyze the data architecture. Firstly, the whole output is a dictionary that consisted of several items. Weather is one of them, so if we want to export complete weather information, we can use data_python[\"weather\"]. Then you can see the value of weather item is a list which is using []. In this list, there is only one element which is another dictionary. how to access the value of the key \"description\" for this dictionary? we can use data_python[\"weather\"][0][\"description\"]. [0] means the first and only(in this case) element.\r\n",
    "    #if you are using pycharm or vscode. You may need to install requests module by \"pip install requests\"."
   ],
   "metadata": {},
   "attachments": {}
  },
  {
   "cell_type": "code",
   "execution_count": null,
   "source": [
    "print(city + \"'s weather is \" + data_python[\"weather\"][0][\"description\"])"
   ],
   "outputs": [],
   "metadata": {}
  },
  {
   "cell_type": "markdown",
   "source": [
    "Next, let us transfer above code to an function so that it can be used easily by others."
   ],
   "metadata": {}
  },
  {
   "cell_type": "code",
   "execution_count": null,
   "source": [
    "# Import required external Module\r\n",
    "import pprint \r\n",
    "import requests # importing the request module\r\n",
    "import json # this is used to parse JSON format\r\n",
    "\r\n",
    "def weather(city, appid):\r\n",
    "    \r\n",
    "  base_url = 'http://api.openweathermap.org/data/2.5/weather?'         # text from a website\r\n",
    "  params = \"q=%s&appid=%s\" % (city,appid)                             # %s is the variable which will be replaced by in order.\r\n",
    "  full_url = base_url+params\r\n",
    "  print(full_url)                                             \r\n",
    "    \r\n",
    "  response = requests.get(full_url) # opening a network and fetching a data\r\n",
    "  pprint.pformat(response)\r\n",
    "  pprint.pformat(response.status_code) # status code, success:200\r\n",
    "  pprint.pformat(response.headers)     # headers information\r\n",
    "  pprint.pprint(response.text) # gives all the text from the page\r\n",
    "  data_python = json.loads(response.text)\r\n",
    "  pprint.pprint(data_python)\r\n",
    "  print(city + \"'s weather is \" + data_python[\"weather\"][0][\"description\"]) \r\n"
   ],
   "outputs": [],
   "metadata": {}
  },
  {
   "cell_type": "markdown",
   "source": [
    "    #Run this function."
   ],
   "metadata": {}
  },
  {
   "cell_type": "code",
   "execution_count": null,
   "source": [
    "appid = \"4b635b2773512f4c1fbadb0e260f1eec\"\r\n",
    "city = input(\"enter city name: \")\r\n",
    "\r\n",
    "weather(city,appid)"
   ],
   "outputs": [],
   "metadata": {}
  },
  {
   "cell_type": "markdown",
   "source": [
    "    #Optional: try to print out the wind speed of the city. The answer is in the lab guide.\n"
   ],
   "metadata": {}
  },
  {
   "cell_type": "code",
   "execution_count": null,
   "source": [],
   "outputs": [],
   "metadata": {}
  },
  {
   "cell_type": "code",
   "execution_count": null,
   "source": [],
   "outputs": [],
   "metadata": {}
  }
 ],
 "metadata": {
  "kernelspec": {
   "display_name": "Python 3",
   "language": "python",
   "name": "python3"
  },
  "language_info": {
   "codemirror_mode": {
    "name": "ipython",
    "version": 3
   },
   "file_extension": ".py",
   "mimetype": "text/x-python",
   "name": "python",
   "nbconvert_exporter": "python",
   "pygments_lexer": "ipython3",
   "version": "3.8.5"
  }
 },
 "nbformat": 4,
 "nbformat_minor": 4
}