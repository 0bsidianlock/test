{
 "cells": [
  {
   "cell_type": "markdown",
   "source": [
    "# Configuring Aruba Network Automation Solutions - Lab4.2 Pyaoscx Workflow\n",
    "## Note:1.Before starting this lab, please clear all the output (Select Kernel, then click \"Restart Clear output\") 2.Ensure you did not ignore running any code cell.\n",
    "\n",
    "### There are two Approaches to use pyaoscx: open granulated approach and Imperative Factory Approach to utilize Pyaoscx library.\n",
    "\n",
    "## Requirements:\n",
    "#### On Access switch:\n",
    "-\tUtilize open granulated approach to create vlan200, add a description and put Interface into the VLAN. \n",
    "-\tUtilize Imperative Factory Approach to create VLAN201.\n",
    "-\tChanlenges: understand how to handle configurarion. Save the running-config to checkpoint and TFTP server.\n"
   ],
   "metadata": {}
  },
  {
   "cell_type": "code",
   "execution_count": null,
   "source": [
    "#Installing library needs some time. wait to see the installation result before you execute next cell. Be patient!\r\n",
    "# you are going to install pycentral v2.0.0. \r\n",
    "# If you execute \"pip install pyaoscx\" without version, it will install the latest.However, we cannot garante it will work for this lab.\r\n",
    "!pip install pyaoscx==2.0.0 "
   ],
   "outputs": [],
   "metadata": {}
  },
  {
   "cell_type": "code",
   "execution_count": null,
   "source": [
    "#get to know the pyaoscx and where it is installed. wait to see the output before you execute next cell. \r\n",
    "!pip show pyaoscx"
   ],
   "outputs": [],
   "metadata": {}
  },
  {
   "cell_type": "code",
   "execution_count": null,
   "source": [
    "# Import modules.\r\n",
    "# You won't see any outputs.\r\n",
    "from pyaoscx.session import Session\r\n",
    "from pyaoscx.pyaoscx_factory import PyaoscxFactory\r\n",
    "from pyaoscx.vlan import Vlan\r\n",
    "from pyaoscx.interface import Interface\r\n",
    "from pyaoscx.static_route import StaticRoute\r\n",
    "from pyaoscx.vrf import Vrf\r\n",
    "import urllib3\r\n",
    "urllib3.disable_warnings()"
   ],
   "outputs": [],
   "metadata": {}
  },
  {
   "cell_type": "code",
   "execution_count": null,
   "source": [
    "# There are two approaches to workflows, both using the session.\r\n",
    "# For the version, we have two options \"1\" and \"10.04\". In this lab we choose \"10.04\".\r\n",
    "# Replace <Your Access switch Management IP> with your Access switch IP(10.251.X.103)\r\n",
    "# Replace <Your Switch Username> and <Your Switch Password> with your credential: admin/aruba123.\r\n",
    "# You won't see any outputs.Go ahead to execute next code cell.\r\n",
    "\r\n",
    "version = '10.04'\r\n",
    "switch_ip = '<Your Access switch Management IP> '\r\n",
    "s = Session(switch_ip, version)\r\n",
    "s.open('<Your Switch Username>', '<Your Switch Password>')\r\n"
   ],
   "outputs": [],
   "metadata": {}
  },
  {
   "cell_type": "markdown",
   "source": [
    "#  APPROACH 1: OPEN GRANULATED APPROACH\n",
    "#### "
   ],
   "metadata": {}
  },
  {
   "cell_type": "code",
   "execution_count": null,
   "source": [
    "# Create Vlan object -- Not yet materialized\r\n",
    "# Vlan is a Python Class that has been defined in PYTHON module pyaoscxl.vlan\r\n",
    "# vlan200 is a object or instance of this Class\r\n",
    "# we don't configure voice VLAN for now.\r\n",
    "# You won't see any outputs.\r\n",
    "\r\n",
    "vlan200 = Vlan(s, 200, name=\"VLAN 200\", voice=False)\r\n"
   ],
   "outputs": [],
   "metadata": {}
  },
  {
   "cell_type": "code",
   "execution_count": null,
   "source": [
    "# Since object is not materialized, performs a POST request -- This method internally makes a GET request right after the POST\r\n",
    "# Obtaining all attributes VLAN related\r\n",
    "# If you get an \"Internal server error\", that means the vlan is already exsisted.\r\n",
    "# You are supposed to see \"True\" which means the vlan is created.\r\n",
    "\r\n",
    "vlan200.apply()\r\n"
   ],
   "outputs": [],
   "metadata": {}
  },
  {
   "cell_type": "code",
   "execution_count": null,
   "source": [
    "# Display all Vlans with below code. You can also go to CLI to check if the vlan has been created.\r\n",
    "\r\n",
    "Vlan.get_all(s)\r\n"
   ],
   "outputs": [],
   "metadata": {}
  },
  {
   "cell_type": "code",
   "execution_count": null,
   "source": [
    "# Check if the voice VLAN is enabled. You are supposed to see the voice VLAN is disabled.\r\n",
    "print(\"VLAN voice is enabled  - {}\".format(vlan200.voice))"
   ],
   "outputs": [],
   "metadata": {}
  },
  {
   "cell_type": "code",
   "execution_count": null,
   "source": [
    "#Add description for vlan200\r\n",
    "#Print function will put \"vlan200.desacrition\" into the \"{}\" then print out the result.\r\n",
    "\r\n",
    "vlan200.description = \"New description, changed via pyaoscx SDK\"\r\n",
    "vlan200.apply()\r\n",
    "\r\n",
    "# Now vlan200 contains the description attribute\r\n",
    "\r\n",
    "print(\"VLAN 200 description {}\".format(vlan200.description))\r\n"
   ],
   "outputs": [],
   "metadata": {}
  },
  {
   "cell_type": "markdown",
   "source": [
    "### Now create another object for vlan1, that we know already exists inside of the Switch"
   ],
   "metadata": {}
  },
  {
   "cell_type": "code",
   "execution_count": null,
   "source": [
    "# Notice that you didn't \"apply\" the vlan1 because the vlan1 has already existed\r\n",
    "vlan1 = Vlan(s, 1)\r\n",
    "\r\n",
    "\r\n",
    "# a GET request is called to obtain the VLAN's information.\r\n",
    "# The information is then added to the object as attributes.\r\n",
    "\r\n",
    "vlan1.get()\r\n"
   ],
   "outputs": [],
   "metadata": {}
  },
  {
   "cell_type": "code",
   "execution_count": null,
   "source": [
    "# Now, you are able to modify the objects internal attributes\r\n",
    "\r\n",
    "vlan1.voice = True\r\n",
    "\r\n",
    "# Apply changes\r\n",
    "changed = vlan1.apply()\r\n",
    "\r\n",
    "# If changed is True, a PUT request was done and object was modified.\r\n",
    "# You won't see any outputs. You can go to CLI to check if the voice vlan has been applied to vlan1.\r\n"
   ],
   "outputs": [],
   "metadata": {}
  },
  {
   "cell_type": "markdown",
   "source": [
    "### Now it is your turn to enable voice VLAN for vlan 200. enter the code below"
   ],
   "metadata": {}
  },
  {
   "cell_type": "code",
   "execution_count": null,
   "source": [],
   "outputs": [],
   "metadata": {}
  },
  {
   "cell_type": "code",
   "execution_count": null,
   "source": [
    "# if your configuraration is right, You should see the output below is true. If not, go back to fix your code.\r\n",
    "print(\"Voice VLAN for vlan 200 is enabled  - {}\".format(vlan200.voice))"
   ],
   "outputs": [],
   "metadata": {}
  },
  {
   "cell_type": "markdown",
   "source": [
    "#  APPROACH 2: IMPERATIVE FACTORY APPROACH\n",
    "\n",
    "## pyaoscx.pyaoscx_factory provide a class named PyaoscxFactoty to instantiate all pyaoscx Modules through specific methods. https://github.com/aruba/pyaoscx/blob/master/pyaoscx/pyaoscx_factory.py\n",
    "\n",
    "### "
   ],
   "metadata": {}
  },
  {
   "cell_type": "code",
   "execution_count": null,
   "source": [
    "# Create VLAN 201\r\n",
    "# Create Factory object, passing the Session Object\r\n",
    "\r\n",
    "factory = PyaoscxFactory(s)\r\n"
   ],
   "outputs": [],
   "metadata": {}
  },
  {
   "cell_type": "code",
   "execution_count": null,
   "source": [
    "# Create Vlan object\r\n",
    "# If vlan is non-existent, Factory instantly creates it inside the switch device\r\n",
    "\r\n",
    "vlan201 = factory.vlan(201, \"NAME201\")\r\n"
   ],
   "outputs": [],
   "metadata": {}
  },
  {
   "cell_type": "code",
   "execution_count": null,
   "source": [
    "# Display all Vlans with below code. You can also go to CLI to check if the vlan has been created.\r\n",
    "\r\n",
    "Vlan.get_all(s)\r\n"
   ],
   "outputs": [],
   "metadata": {}
  },
  {
   "cell_type": "code",
   "execution_count": null,
   "source": [
    "# At the end, the session MUST be closed\r\n",
    "\r\n",
    "s.close()"
   ],
   "outputs": [],
   "metadata": {}
  },
  {
   "cell_type": "markdown",
   "source": [
    "# Challenges:\n",
    "### •\t1. Get the Access switch running-config configuration\n",
    "### •\t2. Save it to a checkpoint named “checkpoint1_by_pyaoscx”\n",
    "### •\t3. Backup running-config to tftp server 10.251.X.90 (X is your table number)\n"
   ],
   "metadata": {}
  },
  {
   "cell_type": "markdown",
   "source": [
<<<<<<< HEAD
    "#=======================================================================================\r\n",
    "\r\n",
    "# Solution:\r\n",
    "\r\n",
    "### Note:You have to change the below cell to \"code\" type and move them to the above the \"s.close\" cell to run.\r\n",
    " \r\n",
    "#### # Replace TFTP_Server_IP with your wired VLT(10.251.X.90)\r\n",
    "    config1 is an object of Class Configuration. \"get_full_config\" , \"create_checkpoint\" and \"backup_configuration\" are functions under the class.\r\n",
    "#### More detail please check solution descriptions in the lab guide"
   ],
   "metadata": {}
=======
    "#=======================================================================================\n",
    "\n",
    "# Solution:\n",
    "\n",
    "### Note:You have to change the below cell to \"code\" type and move them to the above the \"s.close\" cell to run.\n",
    " \n",
    "#### # Replace TFTP_Server_IP with your wired VLT(10.251.X.90)\n",
    "    config1 is an object of Class Configuration. \"get_full_config\" , \"create_checkpoint\" and \"backup_configuration\" are functions under the class. \n",
    "#### # More detail please check solution descriptions in the lab guide"
   ]
>>>>>>> b443b9d7773effe75179353bfaa217b3449e5546
  },
  {
   "cell_type": "markdown",
   "source": [
    "from pyaoscx.configuration import Configuration \n",
    "\n",
    "config1=Configuration(s)\n",
    "\n",
    "Configuration.get_full_config(config1,\"startup-config\")\n",
    "\n",
    "Configuration.create_checkpoint(config1,\"running-config\",\"checkpoint1_by_pyaoscx11\")\n",
    "\n",
    "Configuration.backup_configuration(config1, \"running-config\", output_file=\"test_config\",\n",
    "                             vrf=\"<VRF name\", config_type='json',\n",
    "                             remote_file_tftp_path=\"tftp://<TFTP server IP>/test_config\")  \n",
    "                             \n"
   ],
   "metadata": {}
  },
  {
   "cell_type": "markdown",
   "source": [
    "#  You completed the LAB4.2!\n",
    "#### "
   ],
   "metadata": {}
  }
 ],
 "metadata": {
  "kernelspec": {
   "display_name": "Python 3",
   "language": "python",
   "name": "python3"
  },
  "language_info": {
   "codemirror_mode": {
    "name": "ipython",
    "version": 3
   },
   "file_extension": ".py",
   "mimetype": "text/x-python",
   "name": "python",
   "nbconvert_exporter": "python",
   "pygments_lexer": "ipython3",
   "version": "3.8.5"
  }
 },
 "nbformat": 4,
 "nbformat_minor": 4
}